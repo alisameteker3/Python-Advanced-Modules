{
 "cells": [
  {
   "cell_type": "code",
   "execution_count": 1,
   "id": "fd16169c-576e-441e-b497-f9d78d0649f9",
   "metadata": {},
   "outputs": [],
   "source": [
    "import requests\n",
    "from bs4 import BeautifulSoup\n",
    "import os\n",
    "import pandas as pd"
   ]
  },
  {
   "cell_type": "code",
   "execution_count": 11,
   "id": "3ac4feb6-9975-403d-a67a-6f0b3cab0ca5",
   "metadata": {},
   "outputs": [
    {
     "name": "stdout",
     "output_type": "stream",
     "text": [
      "Double Blind\n",
      "Metalocalypse: Army of the Doomstar\n",
      "Abigail\n",
      "The Blind\n",
      "The Ministry of Ungentlemanly Warfare\n",
      "Challengers\n",
      "Sayen: La cazadora\n",
      "Madame Web\n",
      "Unfrosted\n",
      "The Greatest Night in Pop\n",
      "Godzilla x Kong: The New Empire\n",
      "Zom 100: Bucket List of the Dead\n",
      "Shirley\n",
      "Wonka\n",
      "Und morgen die ganze Welt\n",
      "Vincent doit mourir\n",
      "Me contro Te: Il film - Missione giungla\n",
      "Orion and the Dark\n",
      "She Came to Me\n",
      "Praise This\n",
      "The Casagrandes Movie\n",
      "Kevade\n",
      "Wil\n",
      "Craig Before the Creek\n",
      "24 adet film bulunur\n"
     ]
    }
   ],
   "source": [
    "url = 'https://www.filmmodu16.com'\n",
    "\n",
    "responce = requests.get(url)\n",
    "\n",
    "if responce.status_code == 200:\n",
    "    soup = BeautifulSoup(responce.content,'html.parser')\n",
    "\n",
    "    all_tags = []\n",
    "\n",
    "    for tag in soup.find_all(\"div\" ,attrs={\"class\":\"col-md-2 col-xs-6 movie\"}):\n",
    "        a_tag = tag.find(\"a\")\n",
    "        if a_tag:\n",
    "            all_tags.append(a_tag.text.strip())\n",
    "    \n",
    "\n",
    "\n",
    "    for tag in all_tags:\n",
    "        print(tag)\n",
    "print(f\"{len(all_tags)} adet film bulunur\")"
   ]
  },
  {
   "cell_type": "code",
   "execution_count": 12,
   "id": "08f8ac19-e4a3-4d9b-974f-f7550c0d78f2",
   "metadata": {},
   "outputs": [
    {
     "name": "stdout",
     "output_type": "stream",
     "text": [
      "Double Blind\n",
      "Metalocalypse: Army of the Doomstar\n",
      "Abigail\n",
      "The Blind\n",
      "The Ministry of Ungentlemanly Warfare\n",
      "Challengers\n",
      "Sayen: La cazadora\n",
      "Madame Web\n",
      "Unfrosted\n",
      "The Greatest Night in Pop\n",
      "Godzilla x Kong: The New Empire\n",
      "Zom 100: Bucket List of the Dead\n",
      "Shirley\n",
      "Wonka\n",
      "Und morgen die ganze Welt\n",
      "Vincent doit mourir\n",
      "Me contro Te: Il film - Missione giungla\n",
      "Orion and the Dark\n",
      "She Came to Me\n",
      "Praise This\n",
      "The Casagrandes Movie\n",
      "Kevade\n",
      "Wil\n",
      "Craig Before the Creek\n",
      "24 adet film bulunur\n"
     ]
    }
   ],
   "source": [
    "url = 'https://www.filmmodu16.com'\n",
    "\n",
    "responce = requests.get(url)\n",
    "\n",
    "if responce.status_code == 200:\n",
    "    soup = BeautifulSoup(responce.content,'html.parser')\n",
    "\n",
    "    all_tags = []\n",
    "    all_hrefs = []\n",
    "\n",
    "    for tag in soup.find_all(\"div\" ,attrs={\"class\":\"col-md-2 col-xs-6 movie\"}):\n",
    "        a_tag = tag.find(\"a\")\n",
    "        if a_tag:\n",
    "            all_hrefs.append(a_tag(\"href\"))\n",
    "            all_tags.append(a_tag.text.strip())\n",
    "    \n",
    "\n",
    "\n",
    "    for tag in all_tags:\n",
    "        print(tag)\n",
    "print(f\"{len(all_tags)} adet film bulunur\")"
   ]
  },
  {
   "cell_type": "code",
   "execution_count": 17,
   "id": "31a95013-05c3-4f2e-8b98-57cc3e06fade",
   "metadata": {},
   "outputs": [
    {
     "name": "stdout",
     "output_type": "stream",
     "text": [
      "Görüntüler başarıyla indirildi\n"
     ]
    }
   ],
   "source": [
    "if not os.path.exists('indirilen_goruntuler'):\n",
    "    os.makedirs('indirilen_goruntuler')\n",
    "\n",
    "url = 'https://www.filmmodu16.com/'\n",
    "\n",
    "responce = requests.get(url)\n",
    "soup = BeautifulSoup(responce.text, 'html.parser')\n",
    "\n",
    "my_tags = soup.find_all(\"div\", attrs={\"class\":\"col-md-2 col-xs-6 movie\"})\n",
    "all_content = []\n",
    "\n",
    "for tag in my_tags:\n",
    "    img_src = tag.find('img')['src']\n",
    "    img_url = 'https://www.filmmodu16.com/' + img_src\n",
    "    img_responcse = requests.get(img_url)\n",
    "    all_content.append(img_responcse.content)\n",
    "    with open('indirilen_goruntuler/'+ os.path.basename(img_src),'wb') as f:\n",
    "        f.write(img_responcse.content)\n",
    "\n",
    "print(\"Görüntüler başarıyla indirildi\")\n",
    "\n"
   ]
  },
  {
   "cell_type": "code",
   "execution_count": 24,
   "id": "77996300-76a3-4952-97e4-628b9932ed9e",
   "metadata": {},
   "outputs": [],
   "source": [
    "my_dick = {\"Film Adı\":all_tags,\"Bağlantı Linki\":all_hrefs,\"Poster\":all_content}\n",
    "my_df = pd.DataFrame.from_dict(my_dick)\n",
    "my_df\n",
    "pd.DataFrame.to_excel(my_df,\"Film Bilgileri.xlsx\")"
   ]
  },
  {
   "cell_type": "code",
   "execution_count": null,
   "id": "fcff1600-e57a-4e06-8bd9-50e4826a03bc",
   "metadata": {},
   "outputs": [],
   "source": []
  }
 ],
 "metadata": {
  "kernelspec": {
   "display_name": "env_ybs_3",
   "language": "python",
   "name": "env_ybs_3"
  },
  "language_info": {
   "codemirror_mode": {
    "name": "ipython",
    "version": 3
   },
   "file_extension": ".py",
   "mimetype": "text/x-python",
   "name": "python",
   "nbconvert_exporter": "python",
   "pygments_lexer": "ipython3",
   "version": "3.10.10"
  }
 },
 "nbformat": 4,
 "nbformat_minor": 5
}
