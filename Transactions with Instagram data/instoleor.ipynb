{
 "cells": [
  {
   "cell_type": "code",
   "execution_count": 1,
   "id": "2a992298-2ca4-4a43-9923-04fcbd5f6c0e",
   "metadata": {},
   "outputs": [],
   "source": [
    "import requests\n",
    "import instaloader"
   ]
  },
  {
   "cell_type": "code",
   "execution_count": 9,
   "id": "d7cb5106-df3f-47b4-8dbb-097f78340e0e",
   "metadata": {},
   "outputs": [
    {
     "name": "stdout",
     "output_type": "stream",
     "text": [
      "Profil fotoğrafı başarıyla indirildi \n"
     ]
    }
   ],
   "source": [
    "def dowload_profile_pic(username):\n",
    "    loader = instaloader.Instaloader()\n",
    "    try:\n",
    "        profile = instaloader.Profile.from_username(loader.context,username)\n",
    "        profile_pic_url = profile.profile_pic_url\n",
    "        response = requests.get(profile_pic_url)\n",
    "        with open(f\"{username}_profile_pic.jpg\",\"wb\") as f:\n",
    "            f.write(response.content)\n",
    "\n",
    "        print(\"Profil fotoğrafı başarıyla indirildi \")\n",
    "\n",
    "    except Exception as e:\n",
    "        print(f\"hata:{e}\")\n",
    "    \n",
    "username = \"alisameteker.3\"\n",
    "dowload_profile_pic(username)"
   ]
  },
  {
   "cell_type": "code",
   "execution_count": 15,
   "id": "96a99293-a0d0-4ba4-8b4a-e86d1d2b8556",
   "metadata": {},
   "outputs": [
    {
     "name": "stdout",
     "output_type": "stream",
     "text": [
      "Gönderi sayisi:3\n",
      "Takip ettiği kişi sayısı:522\n",
      "takipçi sayisi412\n"
     ]
    }
   ],
   "source": [
    "def get_user_info(username):\n",
    "    loader = instaloader.Instaloader()\n",
    "    try:\n",
    "        profile = instaloader.Profile.from_username(loader.context,username)\n",
    "        num_post = profile.mediacount\n",
    "        num_follewees = profile.followees\n",
    "        num_folleweers = profile.followers\n",
    "        print(f\"Gönderi sayisi:{num_post}\")\n",
    "        print(f\"Takip ettiği kişi sayısı:{num_follewees}\")\n",
    "        print(f\"takipçi sayisi{num_folleweers}\")\n",
    "\n",
    "    except Exception as e:\n",
    "        print(f\"hata:{e}\")\n",
    "    \n",
    "my_user = \"alisameteker.3\"\n",
    "get_user_info(username)\n"
   ]
  },
  {
   "cell_type": "code",
   "execution_count": 13,
   "id": "b789b1c2-de6a-48ce-b70f-474e49d06f43",
   "metadata": {},
   "outputs": [
    {
     "name": "stdout",
     "output_type": "stream",
     "text": [
      "Gönderi sayisi:3\n",
      "Takip ettiği kişi sayısı:522\n",
      "takipçi sayisi412\n"
     ]
    }
   ],
   "source": [
    " "
   ]
  },
  {
   "cell_type": "code",
   "execution_count": null,
   "id": "ef3fe0a6-d2fe-41b6-8a0e-8b70cf87531a",
   "metadata": {},
   "outputs": [],
   "source": []
  }
 ],
 "metadata": {
  "kernelspec": {
   "display_name": "env_ybs_3",
   "language": "python",
   "name": "env_ybs_3"
  },
  "language_info": {
   "codemirror_mode": {
    "name": "ipython",
    "version": 3
   },
   "file_extension": ".py",
   "mimetype": "text/x-python",
   "name": "python",
   "nbconvert_exporter": "python",
   "pygments_lexer": "ipython3",
   "version": "3.10.10"
  }
 },
 "nbformat": 4,
 "nbformat_minor": 5
}
